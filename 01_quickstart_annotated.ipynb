{
 "cells": [
  {
   "cell_type": "markdown",
   "metadata": {},
   "source": [
    "# 01. LlamaIndex Quickstart (RAG 기본) - 주석 포함 버전"
   ]
  },
  {
   "cell_type": "code",
   "execution_count": 1,
   "metadata": {},
   "outputs": [
    {
     "name": "stdout",
     "output_type": "stream",
     "text": [
      "OPENAI_API_KEY set: True\n"
     ]
    }
   ],
   "source": [
    "# os 모듈과 dotenv 라이브러리를 불러옵니다. (환경 변수 관리)\n",
    "import os\n",
    "from dotenv import load_dotenv\n",
    "\n",
    "# .env 파일에 저장된 API 키들을 불러옵니다.\n",
    "load_dotenv()\n",
    "\n",
    "# OPENAI_API_KEY 환경 변수를 가져옵니다.\n",
    "OPENAI_API_KEY = os.getenv('OPENAI_API_KEY')\n",
    "\n",
    "# 키가 잘 불러와졌는지 확인 (True/False 출력)\n",
    "print('OPENAI_API_KEY set:', bool(OPENAI_API_KEY))\n"
   ]
  },
  {
   "cell_type": "code",
   "execution_count": 2,
   "metadata": {},
   "outputs": [
    {
     "name": "stdout",
     "output_type": "stream",
     "text": [
      "docs: 3\n",
      "핵심 정책 요약:\n",
      "1) 내부 문서는 비식별화 후 외부 서비스에 업로드\n",
      "2) 모델 응답 정확도 위해 근거 문서 함께 제시\n",
      "3) 대외 커뮤니케이션은 경영지원팀 사전 검토\n"
     ]
    }
   ],
   "source": [
    "# LlamaIndex의 문서 로더와 인덱스를 불러옵니다.\n",
    "from llama_index.core import SimpleDirectoryReader, VectorStoreIndex\n",
    "\n",
    "# data/txt 폴더에 있는 문서를 모두 로드합니다.\n",
    "docs = SimpleDirectoryReader('./data/txt').load_data()\n",
    "\n",
    "# 문서 개수를 출력합니다.\n",
    "print('docs:', len(docs))\n",
    "\n",
    "# VectorStoreIndex를 사용해 문서 인덱스를 생성합니다.\n",
    "index = VectorStoreIndex.from_documents(docs)\n",
    "\n",
    "# 인덱스에서 쿼리엔진(QueryEngine)을 생성합니다.\n",
    "qe = index.as_query_engine(similarity_top_k=5)\n",
    "\n",
    "# 쿼리 실행: 문서 요약 요청\n",
    "print(qe.query('핵심 정책을 요약해줘'))\n"
   ]
  },
  {
   "cell_type": "code",
   "execution_count": 3,
   "id": "c499ea99",
   "metadata": {},
   "outputs": [
    {
     "name": "stdout",
     "output_type": "stream",
     "text": [
      "이 문서는 LlamaIndex에 대한 상세 가이드로 구성되어 있습니다. 주요 개념과 아키텍처, 데이터 로딩과 전처리, 인덱스 종류와 특성, 검색 및 생성 과정 등으로 구성되어 있습니다.\n"
     ]
    }
   ],
   "source": [
    "from llama_index.core.postprocessor import SimilarityPostprocessor\n",
    "\n",
    "# 유사도 기반 후처리기 설정 (유사도 0.35 이하 결과 필터링)\n",
    "postprocessor = SimilarityPostprocessor(similarity_cutoff=0.35)\n",
    "\n",
    "# 쿼리 엔진 생성\n",
    "query_engine = index.as_query_engine(\n",
    "    similarity_top_k=8,  # 상위 8개 유사 노드 검색\n",
    "    node_postprocessors=[postprocessor]  # 후처리기 적용\n",
    ")\n",
    "\n",
    "# 쿼리 실행\n",
    "query = \"이 문서는 어떻게 구성되어 있는지 알려줘\"\n",
    "response = query_engine.query(query)\n",
    "\n",
    "# 결과 출력\n",
    "print(response)\n"
   ]
  },
  {
   "cell_type": "code",
   "execution_count": null,
   "id": "a6c1b771",
   "metadata": {},
   "outputs": [],
   "source": []
  }
 ],
 "metadata": {
  "kernelspec": {
   "display_name": "llamaindex",
   "language": "python",
   "name": "python3"
  },
  "language_info": {
   "codemirror_mode": {
    "name": "ipython",
    "version": 3
   },
   "file_extension": ".py",
   "mimetype": "text/x-python",
   "name": "python",
   "nbconvert_exporter": "python",
   "pygments_lexer": "ipython3",
   "version": "3.11.13"
  }
 },
 "nbformat": 4,
 "nbformat_minor": 5
}
